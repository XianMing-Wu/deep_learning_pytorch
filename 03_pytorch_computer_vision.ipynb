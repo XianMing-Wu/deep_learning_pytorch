{
 "cells": [
  {
   "cell_type": "markdown",
   "id": "e10b2d48-13e4-4b9e-9356-f19407b5582c",
   "metadata": {},
   "source": [
    "# 03. PyTorch 计算机视觉\n",
    "\n",
    "[计算机视觉](https://en.wikipedia.org/wiki/Computer_vision) 是一门教会计算机“看见”的技术。\n",
    "\n",
    "例如，它可能涉及构建一个模型来分类一张照片是猫还是狗（即[二分类](https://developers.google.com/machine-learning/glossary#binary-classification)任务）；\n",
    "\n",
    "也可能是判断一张照片中的动物是猫、狗还是鸡（即[多分类](https://developers.google.com/machine-learning/glossary#multi-class-classification)任务）；\n",
    "\n",
    "还可能是识别视频帧中汽车出现的位置（即[目标检测](https://en.wikipedia.org/wiki/Object_detection)任务）；\n",
    "\n",
    "或是确定图像中不同物体的可分割区域（即[全景分割](https://arxiv.org/abs/1801.00868)任务）。\n",
    "\n",
    "![计算机视觉问题示例](https://raw.githubusercontent.com/mrdbourke/pytorch-deep-learning/main/images/03-computer-vision-problems.png)\n",
    "*图中展示了二分类、多分类、目标检测和分割这几类计算机视觉问题的示例。*"
   ]
  },
  {
   "cell_type": "code",
   "execution_count": null,
   "id": "13bb2353-25c0-412a-a2de-f979332589d1",
   "metadata": {},
   "outputs": [],
   "source": []
  }
 ],
 "metadata": {
  "kernelspec": {
   "display_name": "Python 3 (ipykernel)",
   "language": "python",
   "name": "python3"
  },
  "language_info": {
   "codemirror_mode": {
    "name": "ipython",
    "version": 3
   },
   "file_extension": ".py",
   "mimetype": "text/x-python",
   "name": "python",
   "nbconvert_exporter": "python",
   "pygments_lexer": "ipython3",
   "version": "3.11.11"
  }
 },
 "nbformat": 4,
 "nbformat_minor": 5
}
